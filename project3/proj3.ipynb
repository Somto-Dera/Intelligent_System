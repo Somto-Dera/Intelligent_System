{
 "cells": [
  {
   "cell_type": "markdown",
   "metadata": {},
   "source": [
    "# Constraint satisfaction problems (CSP) - Map Coloring\n",
    "\n",
    "   A 𝑘-coloring of a map is an assignment of 𝑘 colors, one to each country, in such a way that no two countries sharing a border have the same color. This problem can be translated to a constraint graph. A coloring of a graph G assigns a color to each vertex of G, with the restriction that two adjacent vertices never have the same color. The chromatic number of G, written χ(G), is the smallest number of colors needed to color G.\n"
   ]
  },
  {
   "cell_type": "markdown",
   "metadata": {},
   "source": [
    "In this project, we will experiment with map coloring techniques and compare the observed results in the context of USA and Australia maps. "
   ]
  },
  {
   "cell_type": "code",
   "execution_count": 1,
   "metadata": {},
   "outputs": [],
   "source": [
    "from csp import *\n",
    "import time\n",
    "import numpy as np\n",
    "import pandas as pd\n",
    "\n",
    "# Hide warnings\n",
    "import warnings\n",
    "warnings.filterwarnings(\"ignore\")"
   ]
  },
  {
   "cell_type": "markdown",
   "metadata": {},
   "source": [
    "## 1. Compute the chromatic number of USA and Australia map. "
   ]
  },
  {
   "cell_type": "code",
   "execution_count": 2,
   "metadata": {},
   "outputs": [
    {
     "name": "stdout",
     "output_type": "stream",
     "text": [
      "Chromatic number of USA Map:  4\n",
      "Chromatic number of Australia Map:  3\n"
     ]
    }
   ],
   "source": [
    "usa_ch_num = chromaticNumber(usa_csp)\n",
    "australia_ch_num = chromaticNumber(australia_csp)\n",
    "print('Chromatic number of USA Map: ', usa_ch_num)   \n",
    "print('Chromatic number of Australia Map: ', australia_ch_num)"
   ]
  },
  {
   "cell_type": "markdown",
   "metadata": {},
   "source": [
    "## 2. Experiment with both maps using the following methods [without heuristics]\n",
    " + Experiment with both maps using the following methods [without heuristics]\n",
    "\n",
    "            Depth first search only,\n",
    "            Depth first search + forward checking,\n",
    "            Depth first search + forward checking + propagation through singleton domains,\n",
    " + Present the results in a tabular format\n",
    "            the number of backtracking happened and\n",
    "            the time required to compute the result."
   ]
  },
  {
   "cell_type": "markdown",
   "metadata": {},
   "source": [
    " GuideLine\n",
    " * Define the order of states randomly for map coloring\n",
    " * Run the following algorithms for the same random order of states\n",
    "            Depth first search only,\n",
    "            Depth first search + forward checking,\n",
    "            Depth first search + forward checking + propagation through singleton domain,\n",
    " * Repeat steps 1 and 2 at least four times. \n",
    " * Show the results in a table for both maps"
   ]
  },
  {
   "cell_type": "markdown",
   "metadata": {},
   "source": [
    "### Depth first search only"
   ]
  },
  {
   "cell_type": "code",
   "execution_count": 3,
   "metadata": {},
   "outputs": [
    {
     "name": "stdout",
     "output_type": "stream",
     "text": [
      "--CSP solution using DFS without heuristics of USA map--\n",
      "{'WA': 'R', 'OR': 'G', 'ID': 'B', 'NV': 'R', 'CA': 'B', 'AZ': 'G', 'UT': 'Y', 'MT': 'R', 'WY': 'G', 'CO': 'R', 'ND': 'G', 'SD': 'B', 'NE': 'Y', 'KA': 'G', 'OK': 'B', 'NM': 'Y', 'TX': 'R', 'MN': 'R', 'IA': 'G', 'MO': 'R', 'AR': 'G', 'LA': 'B', 'WI': 'B', 'IL': 'Y', 'KY': 'G', 'TN': 'B', 'MS': 'R', 'MI': 'R', 'IN': 'B', 'OH': 'Y', 'AL': 'G', 'GA': 'R', 'FL': 'B', 'PA': 'R', 'WV': 'B', 'VA': 'R', 'NC': 'G', 'SC': 'B', 'NY': 'G', 'NJ': 'B', 'DE': 'G', 'MD': 'Y', 'DC': 'G', 'VT': 'R', 'MA': 'B', 'CT': 'R', 'NH': 'G', 'RI': 'G', 'ME': 'R'}\n",
      "\n",
      "\n",
      "\n",
      " --CSP solution using DFS without heuristics of Australia map--\n",
      "{'SA': 'R', 'WA': 'G', 'NT': 'B', 'Q': 'G', 'NSW': 'B', 'V': 'G'}\n"
     ]
    }
   ],
   "source": [
    "# Initialize variables of USA map\n",
    "usa_sol = [[[]]*3]*4\n",
    "usa_bt_num = np.zeros([5, 3])\n",
    "usa_time = np.zeros([5, 3])\n",
    "\n",
    "# Initialize variables of Australia map\n",
    "australia_sol = [[[]]*3]*4\n",
    "australia_bt_num = np.zeros([5, 3])\n",
    "australia_time = np.zeros([5, 3])\n",
    "\n",
    "# Depth first search only\n",
    "for iternum in range(4):\n",
    "    usa_sol[iternum][0], usa_bt_num[iternum][0], usa_time[iternum][0] = DFS(usa_csp)\n",
    "    australia_sol[iternum][0], australia_bt_num[iternum][0], australia_time[iternum][0] = DFS(australia_csp)\n",
    "print('--CSP solution using DFS without heuristics of USA map--')    \n",
    "print(usa_sol[0][0])\n",
    "print('\\n\\n\\n --CSP solution using DFS without heuristics of Australia map--') \n",
    "print(australia_sol[0][0])"
   ]
  },
  {
   "cell_type": "markdown",
   "metadata": {},
   "source": [
    "### Depth first search + forward checking"
   ]
  },
  {
   "cell_type": "code",
   "execution_count": 4,
   "metadata": {},
   "outputs": [
    {
     "name": "stdout",
     "output_type": "stream",
     "text": [
      "--CSP solution using DFS+Forward without heuristics of USA map--\n",
      "{'WA': 'R', 'OR': 'G', 'ID': 'B', 'NV': 'R', 'CA': 'B', 'AZ': 'G', 'UT': 'Y', 'MT': 'R', 'WY': 'G', 'CO': 'R', 'ND': 'G', 'SD': 'B', 'NE': 'Y', 'KA': 'G', 'OK': 'B', 'NM': 'Y', 'TX': 'R', 'MN': 'R', 'IA': 'G', 'MO': 'R', 'AR': 'G', 'LA': 'B', 'WI': 'B', 'IL': 'Y', 'KY': 'G', 'TN': 'B', 'MS': 'R', 'MI': 'R', 'IN': 'B', 'OH': 'Y', 'AL': 'G', 'GA': 'R', 'FL': 'B', 'PA': 'R', 'WV': 'B', 'VA': 'R', 'NC': 'G', 'SC': 'B', 'NY': 'G', 'NJ': 'B', 'DE': 'G', 'MD': 'Y', 'DC': 'G', 'VT': 'R', 'MA': 'B', 'CT': 'R', 'NH': 'G', 'RI': 'G', 'ME': 'R'}\n",
      "\n",
      "\n",
      "\n",
      " --CSP solution using DFS+Forward without heuristics of Australia map--\n",
      "{'SA': 'R', 'WA': 'G', 'NT': 'B', 'Q': 'G', 'NSW': 'B', 'V': 'G'}\n"
     ]
    }
   ],
   "source": [
    "# Depth first search + forward checking\n",
    "for iternum in range(4):\n",
    "    usa_sol[iternum][1], usa_bt_num[iternum][1], usa_time[iternum][1] = DFS(usa_csp, inference=forward_checking)\n",
    "    australia_sol[iternum][1], australia_bt_num[iternum][1], australia_time[iternum][1] = DFS(australia_csp, inference=forward_checking)\n",
    "\n",
    "print('--CSP solution using DFS+Forward without heuristics of USA map--')    \n",
    "print(usa_sol[0][1])\n",
    "print('\\n\\n\\n --CSP solution using DFS+Forward without heuristics of Australia map--') \n",
    "print(australia_sol[0][1])"
   ]
  },
  {
   "cell_type": "markdown",
   "metadata": {},
   "source": [
    "### Depth first search + forward checking + propagation through singleton domains"
   ]
  },
  {
   "cell_type": "code",
   "execution_count": 5,
   "metadata": {},
   "outputs": [
    {
     "name": "stdout",
     "output_type": "stream",
     "text": [
      "--CSP solution using DFS+Forward+Propagation without heuristics of USA map--\n",
      "{'WA': 'R', 'OR': 'G', 'ID': 'B', 'NV': 'R', 'CA': 'B', 'AZ': 'G', 'UT': 'Y', 'MT': 'R', 'WY': 'G', 'CO': 'R', 'ND': 'G', 'SD': 'B', 'NE': 'Y', 'KA': 'G', 'OK': 'B', 'NM': 'Y', 'TX': 'R', 'MN': 'R', 'IA': 'G', 'MO': 'R', 'AR': 'G', 'LA': 'B', 'WI': 'B', 'IL': 'Y', 'KY': 'G', 'TN': 'B', 'MS': 'R', 'MI': 'R', 'IN': 'B', 'OH': 'Y', 'AL': 'G', 'GA': 'R', 'FL': 'B', 'PA': 'R', 'WV': 'B', 'VA': 'R', 'NC': 'G', 'SC': 'B', 'NY': 'G', 'NJ': 'B', 'DE': 'G', 'MD': 'Y', 'DC': 'G', 'VT': 'R', 'MA': 'B', 'CT': 'R', 'NH': 'G', 'RI': 'G', 'ME': 'R'}\n",
      "\n",
      "\n",
      "\n",
      " --CSP solution using DFS+Forward+Propagation without heuristics of Australia map--\n",
      "{'SA': 'R', 'WA': 'G', 'NT': 'B', 'Q': 'G', 'NSW': 'B', 'V': 'G'}\n"
     ]
    }
   ],
   "source": [
    "# Depth first search + forward checking + propagation through singleton domains\n",
    "for iternum in range(4):\n",
    "    usa_sol[iternum][2], usa_bt_num[iternum][2], usa_time[iternum][2] = DFS(usa_csp, inference=mac)\n",
    "    australia_sol[iternum][2], australia_bt_num[iternum][2], australia_time[iternum][2] = DFS(australia_csp, inference=mac)\n",
    "    \n",
    "print('--CSP solution using DFS+Forward+Propagation without heuristics of USA map--')    \n",
    "print(usa_sol[0][2])\n",
    "print('\\n\\n\\n --CSP solution using DFS+Forward+Propagation without heuristics of Australia map--') \n",
    "print(australia_sol[0][2])"
   ]
  },
  {
   "cell_type": "markdown",
   "metadata": {},
   "source": [
    "### Get the mean values of number of backtracking and required time"
   ]
  },
  {
   "cell_type": "code",
   "execution_count": 6,
   "metadata": {},
   "outputs": [],
   "source": [
    "# number of backtracking\n",
    "usa_bt_num[-1, :] = np.mean(usa_bt_num[:4, :], axis = 0)\n",
    "australia_bt_num[-1, :] = np.mean(australia_bt_num[:4, :], axis = 0)\n",
    "\n",
    "# requried time\n",
    "usa_time[-1, :] = np.mean(usa_time[:4, :], axis = 0)\n",
    "australia_time[-1, :] = np.mean(australia_time[:4, :], axis = 0)"
   ]
  },
  {
   "cell_type": "markdown",
   "metadata": {},
   "source": [
    "### Convert to Dataframe"
   ]
  },
  {
   "cell_type": "code",
   "execution_count": 7,
   "metadata": {},
   "outputs": [
    {
     "name": "stdout",
     "output_type": "stream",
     "text": [
      "***************** Backtracking number of USA map ***********************\n",
      "       DFS  DFS+Forward  DFS+Forward+Propagation\n",
      "1     49.0         49.0                     49.0\n",
      "2     49.0         49.0                     49.0\n",
      "3     49.0         49.0                     49.0\n",
      "4     49.0         49.0                     49.0\n",
      "mean  49.0         49.0                     49.0\n",
      "\n",
      "\n",
      "\n",
      " ***************** Required time of USA map ***********************\n",
      "           DFS  DFS+Forward  DFS+Forward+Propagation\n",
      "1     0.000437     0.000619                 0.002377\n",
      "2     0.000422     0.000523                 0.004176\n",
      "3     0.001612     0.000689                 0.003242\n",
      "4     0.000623     0.001082                 0.002061\n",
      "mean  0.000773     0.000728                 0.002964\n",
      "\n",
      "\n",
      "\n",
      " ***************** Backtracking number of Australia map ***********************\n",
      "      DFS  DFS+Forward  DFS+Forward+Propagation\n",
      "1     6.0          6.0                      6.0\n",
      "2     6.0          6.0                      6.0\n",
      "3     6.0          6.0                      6.0\n",
      "4     6.0          6.0                      6.0\n",
      "mean  6.0          6.0                      6.0\n",
      "\n",
      "\n",
      "\n",
      " ***************** Required time of Australia map ***********************\n",
      "           DFS  DFS+Forward  DFS+Forward+Propagation\n",
      "1     0.000039     0.000051                 0.000386\n",
      "2     0.000046     0.000089                 0.000425\n",
      "3     0.000074     0.000095                 0.000213\n",
      "4     0.000041     0.000091                 0.000208\n",
      "mean  0.000050     0.000082                 0.000308\n"
     ]
    }
   ],
   "source": [
    "# Dataframe of backtracking number of USA map\n",
    "print('***************** Backtracking number of USA map ***********************')\n",
    "usa_bt_num_d = pd.DataFrame(usa_bt_num, index=['1', '2', '3', '4','mean'],\n",
    "                 columns=['DFS', 'DFS+Forward','DFS+Forward+Propagation'])\n",
    "print(usa_bt_num_d)\n",
    "\n",
    "# Dataframe of required time of USA map\n",
    "print('\\n\\n\\n ***************** Required time of USA map ***********************')\n",
    "usa_time_d = pd.DataFrame(usa_time, index=['1', '2', '3', '4', 'mean'],\n",
    "                 columns=['DFS', 'DFS+Forward','DFS+Forward+Propagation'])\n",
    "print(usa_time_d)\n",
    "\n",
    "# Dataframe of backtracking number of Australia map\n",
    "print('\\n\\n\\n ***************** Backtracking number of Australia map ***********************')\n",
    "australia_bt_num_d = pd.DataFrame(australia_bt_num, index=['1', '2', '3', '4','mean'],\n",
    "                 columns=['DFS', 'DFS+Forward','DFS+Forward+Propagation'])\n",
    "print(australia_bt_num_d)\n",
    "\n",
    "# Dataframe of required time of Australia map\n",
    "print('\\n\\n\\n ***************** Required time of Australia map ***********************')\n",
    "australia_time_d = pd.DataFrame(australia_time, index=['1', '2', '3', '4', 'mean'],\n",
    "                 columns=['DFS', 'DFS+Forward','DFS+Forward+Propagation'])\n",
    "print(australia_time_d)"
   ]
  },
  {
   "cell_type": "markdown",
   "metadata": {},
   "source": [
    "## Compare all results and analyze them"
   ]
  },
  {
   "cell_type": "markdown",
   "metadata": {},
   "source": [
    "From the above tables, we can see that these three search algorithms have the same number of backtracking for both maps. And the average run time is the smallest when we use depth first search only."
   ]
  },
  {
   "cell_type": "markdown",
   "metadata": {},
   "source": [
    "## 3. Experiment with both maps using the following methods [with heuristics]\n",
    "+ Experiment with both maps using the following methods with heuristics where the order of variables needs to be defined in the following order MRV, Degree Constraint, and Least Constraining Value\n",
    "            Depth first search only, \n",
    "            Depth first search + forward checking,\n",
    "            Depth first search + forward checking + propagation through singleton domains,\n",
    "            \n",
    "            \n",
    "+ Present the results in a tabular format\n",
    "            the number of backtracking happened and\n",
    "            the time required to compute the result.\n"
   ]
  },
  {
   "cell_type": "markdown",
   "metadata": {},
   "source": [
    " GuideLine\n",
    " + Start with a state \n",
    " + Run the following algorithms - this time, you will use heuristics to select next variable and value where appropriate at runtime\n",
    "            Depth first search only, \n",
    "            Depth first search + forward checking,\n",
    "            Depth first search + forward checking + propagation through singleton domain,\n",
    " + Repeat steps 1 and 2 at least four times. \n",
    " + Show the results in a table for both maps"
   ]
  },
  {
   "cell_type": "markdown",
   "metadata": {},
   "source": [
    "## Depth first search only"
   ]
  },
  {
   "cell_type": "code",
   "execution_count": 8,
   "metadata": {},
   "outputs": [
    {
     "name": "stdout",
     "output_type": "stream",
     "text": [
      "--CSP solution using DFS(MRV) of USA map--\n",
      "{'WI': 'B', 'DE': 'G', 'MI': 'R', 'MT': 'R', 'IL': 'Y', 'MD': 'Y', 'ND': 'G', 'WA': 'R', 'CT': 'R', 'SC': 'B', 'CA': 'B', 'TX': 'R', 'NY': 'G', 'AR': 'G', 'MA': 'B', 'RI': 'G', 'AL': 'G', 'MO': 'R', 'VT': 'R', 'OR': 'G', 'UT': 'Y', 'CO': 'R', 'NJ': 'B', 'MS': 'R', 'NC': 'G', 'OK': 'B', 'NH': 'G', 'WY': 'G', 'ME': 'R', 'KY': 'G', 'DC': 'G', 'NM': 'Y', 'NE': 'Y', 'MN': 'R', 'IN': 'B', 'LA': 'B', 'WV': 'B', 'KA': 'G', 'AZ': 'G', 'TN': 'B', 'OH': 'Y', 'VA': 'R', 'GA': 'R', 'ID': 'B', 'FL': 'B', 'SD': 'B', 'IA': 'G', 'NV': 'R', 'PA': 'R'}\n",
      "\n",
      "\n",
      "\n",
      " --CSP solution using DFS(Degree Constraint) of USA map--\n",
      "{'WA': 'R', 'OR': 'G', 'ID': 'B', 'NV': 'R', 'CA': 'B', 'AZ': 'G', 'UT': 'Y', 'MT': 'R', 'WY': 'G', 'CO': 'R', 'ND': 'G', 'SD': 'B', 'NE': 'Y', 'KA': 'G', 'OK': 'B', 'NM': 'Y', 'TX': 'R', 'MN': 'R', 'IA': 'G', 'MO': 'R', 'AR': 'G', 'LA': 'B', 'WI': 'B', 'IL': 'Y', 'KY': 'G', 'TN': 'B', 'MS': 'R', 'MI': 'R', 'IN': 'B', 'OH': 'Y', 'AL': 'G', 'GA': 'R', 'FL': 'B', 'PA': 'R', 'WV': 'B', 'VA': 'R', 'NC': 'G', 'SC': 'B', 'NY': 'G', 'NJ': 'B', 'DE': 'G', 'MD': 'Y', 'DC': 'G', 'VT': 'R', 'MA': 'B', 'CT': 'R', 'NH': 'G', 'RI': 'G', 'ME': 'R'}\n",
      "\n",
      "\n",
      "\n",
      " --CSP solution using DFS(Least Constraining Value) of USA map--\n",
      "{'WA': 'R', 'OR': 'G', 'ID': 'B', 'NV': 'R', 'CA': 'B', 'AZ': 'G', 'UT': 'Y', 'MT': 'R', 'WY': 'G', 'CO': 'R', 'ND': 'G', 'SD': 'B', 'NE': 'Y', 'KA': 'G', 'OK': 'B', 'NM': 'Y', 'TX': 'R', 'MN': 'R', 'IA': 'G', 'MO': 'R', 'AR': 'G', 'LA': 'B', 'WI': 'B', 'IL': 'Y', 'KY': 'G', 'TN': 'B', 'MS': 'R', 'MI': 'R', 'IN': 'B', 'OH': 'Y', 'AL': 'G', 'GA': 'R', 'FL': 'B', 'PA': 'R', 'WV': 'B', 'VA': 'R', 'NC': 'G', 'SC': 'B', 'NY': 'G', 'NJ': 'B', 'DE': 'G', 'MD': 'Y', 'DC': 'G', 'VT': 'R', 'MA': 'B', 'CT': 'R', 'NH': 'G', 'RI': 'G', 'ME': 'R'}\n",
      "\n",
      "\n",
      "\n",
      " --CSP solution using DFS(MRV) of Australia map--\n",
      "{'NT': 'B', 'Q': 'G', 'NSW': 'B', 'V': 'G', 'SA': 'R', 'WA': 'G'}\n",
      "\n",
      "\n",
      "\n",
      " --CSP solution using DFS(Degree Constraint) of Australia map--\n",
      "{'SA': 'R', 'WA': 'G', 'NT': 'B', 'Q': 'G', 'NSW': 'B', 'V': 'G'}\n",
      "\n",
      "\n",
      "\n",
      " --CSP solution using DFS(Least Constraining Value) of Australia map--\n",
      "{'SA': 'R', 'WA': 'G', 'NT': 'B', 'Q': 'G', 'NSW': 'B', 'V': 'G'}\n"
     ]
    }
   ],
   "source": [
    "# Initialize variables of USA map\n",
    "usa_sol_h = [[[]]*9]*4\n",
    "usa_bt_num_h = np.zeros([5, 9])\n",
    "usa_time_h = np.zeros([5, 9])\n",
    "\n",
    "# Initialize variables of Australia map\n",
    "australia_sol_h = [[[]]*9]*4\n",
    "australia_bt_num_h = np.zeros([5, 9])\n",
    "australia_time_h = np.zeros([5, 9])\n",
    "\n",
    "# Depth first search only\n",
    "for iternum in range(4):\n",
    "    # MRV\n",
    "    usa_sol_h[iternum][0], usa_bt_num_h[iternum][0], usa_time_h[iternum][0] = DFS(usa_csp, select_unassigned_variable=mrv)\n",
    "    australia_sol_h[iternum][0], australia_bt_num_h[iternum][0], australia_time_h[iternum][0] = DFS(australia_csp, select_unassigned_variable=mrv)\n",
    "    \n",
    "    # Degree Constraint\n",
    "    usa_sol_h[iternum][1], usa_bt_num_h[iternum][1], usa_time_h[iternum][1] = DFS(usa_csp, inference = mac)\n",
    "    australia_sol_h[iternum][1], australia_bt_num_h[iternum][1], australia_time_h[iternum][1] = DFS(australia_csp, inference = mac)\n",
    "    \n",
    "    # Least Constraining Value\n",
    "    usa_sol_h[iternum][2], usa_bt_num_h[iternum][2], usa_time_h[iternum][2] = DFS(usa_csp, order_domain_values=lcv)\n",
    "    australia_sol_h[iternum][2], australia_bt_num_h[iternum][2], australia_time_h[iternum][2] = DFS(australia_csp, order_domain_values=lcv)\n",
    "\n",
    "print('--CSP solution using DFS(MRV) of USA map--')    \n",
    "print(usa_sol_h[0][0])\n",
    "\n",
    "print('\\n\\n\\n --CSP solution using DFS(Degree Constraint) of USA map--')    \n",
    "print(usa_sol_h[0][1])\n",
    "\n",
    "print('\\n\\n\\n --CSP solution using DFS(Least Constraining Value) of USA map--')    \n",
    "print(usa_sol_h[0][2])\n",
    "\n",
    "print('\\n\\n\\n --CSP solution using DFS(MRV) of Australia map--') \n",
    "print(australia_sol_h[0][0])\n",
    "\n",
    "print('\\n\\n\\n --CSP solution using DFS(Degree Constraint) of Australia map--') \n",
    "print(australia_sol_h[0][1])\n",
    "\n",
    "print('\\n\\n\\n --CSP solution using DFS(Least Constraining Value) of Australia map--') \n",
    "print(australia_sol_h[0][2])"
   ]
  },
  {
   "cell_type": "code",
   "execution_count": 9,
   "metadata": {},
   "outputs": [
    {
     "name": "stdout",
     "output_type": "stream",
     "text": [
      "--CSP solution using DFS+Forward(MRV) of USA map--\n",
      "{'MD': 'Y', 'FL': 'B', 'ID': 'B', 'MO': 'R', 'MS': 'R', 'WI': 'B', 'ND': 'G', 'OR': 'G', 'WA': 'R', 'WV': 'B', 'IN': 'B', 'NC': 'G', 'MI': 'R', 'ME': 'R', 'NE': 'Y', 'DE': 'G', 'NY': 'G', 'DC': 'G', 'MN': 'R', 'NH': 'G', 'TN': 'B', 'UT': 'Y', 'AL': 'G', 'CO': 'R', 'PA': 'R', 'IL': 'Y', 'IA': 'G', 'NV': 'R', 'MT': 'R', 'SC': 'B', 'GA': 'R', 'MA': 'B', 'NJ': 'B', 'VT': 'R', 'OK': 'B', 'LA': 'B', 'CA': 'B', 'NM': 'Y', 'SD': 'B', 'AR': 'G', 'KA': 'G', 'KY': 'G', 'VA': 'R', 'CT': 'R', 'WY': 'G', 'AZ': 'G', 'TX': 'R', 'OH': 'Y', 'RI': 'G'}\n",
      "\n",
      "\n",
      "\n",
      " --CSP solution using DFS+Forward(Degree Constraint) of USA map--\n",
      "{'WA': 'R', 'OR': 'G', 'ID': 'B', 'NV': 'R', 'CA': 'B', 'AZ': 'G', 'UT': 'Y', 'MT': 'R', 'WY': 'G', 'CO': 'R', 'ND': 'G', 'SD': 'B', 'NE': 'Y', 'KA': 'G', 'OK': 'B', 'NM': 'Y', 'TX': 'R', 'MN': 'R', 'IA': 'G', 'MO': 'R', 'AR': 'G', 'LA': 'B', 'WI': 'B', 'IL': 'Y', 'KY': 'G', 'TN': 'B', 'MS': 'R', 'MI': 'R', 'IN': 'B', 'OH': 'Y', 'AL': 'G', 'GA': 'R', 'FL': 'B', 'PA': 'R', 'WV': 'B', 'VA': 'R', 'NC': 'G', 'SC': 'B', 'NY': 'G', 'NJ': 'B', 'DE': 'G', 'MD': 'Y', 'DC': 'G', 'VT': 'R', 'MA': 'B', 'CT': 'R', 'NH': 'G', 'RI': 'G', 'ME': 'R'}\n",
      "\n",
      "\n",
      "\n",
      " --CSP solution using DFS+Forward(Least Constraining Value) of USA map--\n",
      "{'WA': 'R', 'OR': 'G', 'ID': 'B', 'NV': 'R', 'CA': 'B', 'AZ': 'G', 'UT': 'Y', 'MT': 'R', 'WY': 'G', 'CO': 'R', 'ND': 'G', 'SD': 'B', 'NE': 'Y', 'KA': 'G', 'OK': 'B', 'NM': 'Y', 'TX': 'R', 'MN': 'R', 'IA': 'G', 'MO': 'R', 'AR': 'G', 'LA': 'B', 'WI': 'B', 'IL': 'Y', 'KY': 'G', 'TN': 'B', 'MS': 'R', 'MI': 'R', 'IN': 'B', 'OH': 'Y', 'AL': 'G', 'GA': 'R', 'FL': 'B', 'PA': 'R', 'WV': 'B', 'VA': 'R', 'NC': 'G', 'SC': 'B', 'NY': 'G', 'NJ': 'B', 'DE': 'G', 'MD': 'Y', 'DC': 'G', 'VT': 'R', 'MA': 'B', 'CT': 'R', 'NH': 'G', 'RI': 'G', 'ME': 'R'}\n",
      "\n",
      "\n",
      "\n",
      " --CSP solution using DFS+Forward(MRV) of Australia map--\n",
      "{'SA': 'R', 'Q': 'G', 'V': 'G', 'NSW': 'B', 'NT': 'B', 'WA': 'G'}\n",
      "\n",
      "\n",
      "\n",
      " --CSP solution using DFS+Forward(Degree Constraint) of Australia map--\n",
      "{'SA': 'R', 'WA': 'G', 'NT': 'B', 'Q': 'G', 'NSW': 'B', 'V': 'G'}\n",
      "\n",
      "\n",
      "\n",
      " --CSP solution using DFS+Forward(Least Constraining Value) of Australia map--\n",
      "{'SA': 'R', 'WA': 'G', 'NT': 'B', 'Q': 'G', 'NSW': 'B', 'V': 'G'}\n"
     ]
    }
   ],
   "source": [
    "# Depth first search + forward checking\n",
    "for iternum in range(4):\n",
    "    # MRV\n",
    "    usa_sol_h[iternum][3], usa_bt_num_h[iternum][3], usa_time_h[iternum][3] = DFS(usa_csp, select_unassigned_variable=mrv, inference = forward_checking)\n",
    "    australia_sol_h[iternum][3], australia_bt_num_h[iternum][3], australia_time_h[iternum][3] = DFS(australia_csp, select_unassigned_variable=mrv, inference = forward_checking)\n",
    "    \n",
    "    # Degree Constraint\n",
    "    usa_sol_h[iternum][4], usa_bt_num_h[iternum][4], usa_time_h[iternum][4] = DFS(usa_csp, inference = forward_checking)\n",
    "    australia_sol_h[iternum][4], australia_bt_num_h[iternum][4], australia_time_h[iternum][4] = DFS(australia_csp, inference = forward_checking)\n",
    "    \n",
    "    # Least Constraining Value\n",
    "    usa_sol_h[iternum][5], usa_bt_num_h[iternum][5], usa_time_h[iternum][5] = DFS(usa_csp, order_domain_values=lcv, inference = forward_checking)\n",
    "    australia_sol_h[iternum][5], australia_bt_num_h[iternum][5], australia_time_h[iternum][5] = DFS(australia_csp, order_domain_values=lcv, inference = forward_checking)\n",
    "\n",
    "print('--CSP solution using DFS+Forward(MRV) of USA map--')    \n",
    "print(usa_sol_h[0][3])\n",
    "\n",
    "print('\\n\\n\\n --CSP solution using DFS+Forward(Degree Constraint) of USA map--')    \n",
    "print(usa_sol_h[0][4])\n",
    "\n",
    "print('\\n\\n\\n --CSP solution using DFS+Forward(Least Constraining Value) of USA map--')    \n",
    "print(usa_sol_h[0][5])\n",
    "\n",
    "print('\\n\\n\\n --CSP solution using DFS+Forward(MRV) of Australia map--') \n",
    "print(australia_sol_h[0][3])\n",
    "\n",
    "print('\\n\\n\\n --CSP solution using DFS+Forward(Degree Constraint) of Australia map--') \n",
    "print(australia_sol_h[0][4])\n",
    "\n",
    "print('\\n\\n\\n --CSP solution using DFS+Forward(Least Constraining Value) of Australia map--') \n",
    "print(australia_sol_h[0][5])"
   ]
  },
  {
   "cell_type": "code",
   "execution_count": 10,
   "metadata": {},
   "outputs": [
    {
     "name": "stdout",
     "output_type": "stream",
     "text": [
      "--CSP solution using DFS+Forward+Propagation(MRV) of USA map--\n",
      "{'ME': 'R', 'FL': 'B', 'AR': 'G', 'MN': 'R', 'TX': 'R', 'CT': 'R', 'IA': 'G', 'LA': 'B', 'OR': 'G', 'IN': 'B', 'SC': 'B', 'KA': 'G', 'IL': 'Y', 'CA': 'B', 'WY': 'G', 'MD': 'Y', 'PA': 'R', 'ID': 'B', 'NY': 'G', 'WA': 'R', 'TN': 'B', 'MS': 'R', 'WV': 'B', 'NM': 'Y', 'AZ': 'G', 'NV': 'R', 'CO': 'R', 'ND': 'G', 'OK': 'B', 'MT': 'R', 'OH': 'Y', 'SD': 'B', 'WI': 'B', 'NE': 'Y', 'AL': 'G', 'GA': 'R', 'VT': 'R', 'KY': 'G', 'NJ': 'B', 'DE': 'G', 'UT': 'Y', 'MI': 'R', 'NC': 'G', 'MO': 'R', 'VA': 'R', 'RI': 'G', 'DC': 'G', 'NH': 'G', 'MA': 'B'}\n",
      "\n",
      "\n",
      "\n",
      " --CSP solution using DFS+Forward+Propagation(Degree Constraint) of USA map--\n",
      "{'WA': 'R', 'OR': 'G', 'ID': 'B', 'NV': 'R', 'CA': 'B', 'AZ': 'G', 'UT': 'Y', 'MT': 'R', 'WY': 'G', 'CO': 'R', 'ND': 'G', 'SD': 'B', 'NE': 'Y', 'KA': 'G', 'OK': 'B', 'NM': 'Y', 'TX': 'R', 'MN': 'R', 'IA': 'G', 'MO': 'R', 'AR': 'G', 'LA': 'B', 'WI': 'B', 'IL': 'Y', 'KY': 'G', 'TN': 'B', 'MS': 'R', 'MI': 'R', 'IN': 'B', 'OH': 'Y', 'AL': 'G', 'GA': 'R', 'FL': 'B', 'PA': 'R', 'WV': 'B', 'VA': 'R', 'NC': 'G', 'SC': 'B', 'NY': 'G', 'NJ': 'B', 'DE': 'G', 'MD': 'Y', 'DC': 'G', 'VT': 'R', 'MA': 'B', 'CT': 'R', 'NH': 'G', 'RI': 'G', 'ME': 'R'}\n",
      "\n",
      "\n",
      "\n",
      " --CSP solution using DFS+Forward+Propagation(Least Constraining Value) of USA map--\n",
      "{'WA': 'R', 'OR': 'G', 'ID': 'B', 'NV': 'R', 'CA': 'B', 'AZ': 'G', 'UT': 'Y', 'MT': 'R', 'WY': 'G', 'CO': 'R', 'ND': 'G', 'SD': 'B', 'NE': 'Y', 'KA': 'G', 'OK': 'B', 'NM': 'Y', 'TX': 'R', 'MN': 'R', 'IA': 'G', 'MO': 'R', 'AR': 'G', 'LA': 'B', 'WI': 'B', 'IL': 'Y', 'KY': 'G', 'TN': 'B', 'MS': 'R', 'MI': 'R', 'IN': 'B', 'OH': 'Y', 'AL': 'G', 'GA': 'R', 'FL': 'B', 'PA': 'R', 'WV': 'B', 'VA': 'R', 'NC': 'G', 'SC': 'B', 'NY': 'G', 'NJ': 'B', 'DE': 'G', 'MD': 'Y', 'DC': 'G', 'VT': 'R', 'MA': 'B', 'CT': 'R', 'NH': 'G', 'RI': 'G', 'ME': 'R'}\n",
      "\n",
      "\n",
      "\n",
      " --CSP solution using DFS+Forward+Propagation(MRV) of Australia map--\n",
      "{'V': 'G', 'Q': 'G', 'WA': 'G', 'SA': 'R', 'NT': 'B', 'NSW': 'B'}\n",
      "\n",
      "\n",
      "\n",
      " --CSP solution using DFS+Forward+Propagation(Degree Constraint) of Australia map--\n",
      "{'SA': 'R', 'WA': 'G', 'NT': 'B', 'Q': 'G', 'NSW': 'B', 'V': 'G'}\n",
      "\n",
      "\n",
      "\n",
      " --CSP solution using DFS+Forward+Propagation(Least Constraining Value) of Australia map--\n",
      "{'SA': 'R', 'WA': 'G', 'NT': 'B', 'Q': 'G', 'NSW': 'B', 'V': 'G'}\n"
     ]
    }
   ],
   "source": [
    "# Depth first search + forward checking + propagation through singleton domain\n",
    "for iternum in range(4):\n",
    "    # MRV\n",
    "    usa_sol_h[iternum][6], usa_bt_num_h[iternum][6], usa_time_h[iternum][6] = DFS(usa_csp, select_unassigned_variable=mrv, inference = mac)\n",
    "    australia_sol_h[iternum][6], australia_bt_num_h[iternum][6], australia_time_h[iternum][6] = DFS(australia_csp, select_unassigned_variable=mrv, inference = mac)\n",
    "    \n",
    "    # Degree Constraint\n",
    "    usa_sol_h[iternum][7], usa_bt_num_h[iternum][7], usa_time_h[iternum][7] = DFS(usa_csp, inference = mac)\n",
    "    australia_sol_h[iternum][7], australia_bt_num_h[iternum][7], australia_time_h[iternum][7] = DFS(australia_csp, inference = mac)\n",
    "    \n",
    "    # Least Constraining Value\n",
    "    usa_sol_h[iternum][8], usa_bt_num_h[iternum][8], usa_time_h[iternum][8] = DFS(usa_csp, order_domain_values=lcv, inference = mac)\n",
    "    australia_sol_h[iternum][8], australia_bt_num_h[iternum][8], australia_time_h[iternum][8] = DFS(australia_csp, order_domain_values=lcv, inference = mac)\n",
    "\n",
    "print('--CSP solution using DFS+Forward+Propagation(MRV) of USA map--')    \n",
    "print(usa_sol_h[0][6])\n",
    "\n",
    "print('\\n\\n\\n --CSP solution using DFS+Forward+Propagation(Degree Constraint) of USA map--')    \n",
    "print(usa_sol_h[0][7])\n",
    "\n",
    "print('\\n\\n\\n --CSP solution using DFS+Forward+Propagation(Least Constraining Value) of USA map--')    \n",
    "print(usa_sol_h[0][8])\n",
    "\n",
    "print('\\n\\n\\n --CSP solution using DFS+Forward+Propagation(MRV) of Australia map--') \n",
    "print(australia_sol_h[0][6])\n",
    "\n",
    "print('\\n\\n\\n --CSP solution using DFS+Forward+Propagation(Degree Constraint) of Australia map--') \n",
    "print(australia_sol_h[0][7])\n",
    "\n",
    "print('\\n\\n\\n --CSP solution using DFS+Forward+Propagation(Least Constraining Value) of Australia map--') \n",
    "print(australia_sol_h[0][8])"
   ]
  },
  {
   "cell_type": "markdown",
   "metadata": {},
   "source": [
    "### Get the mean values of number of backtracking and required time"
   ]
  },
  {
   "cell_type": "code",
   "execution_count": 11,
   "metadata": {},
   "outputs": [],
   "source": [
    "# number of backtracking\n",
    "usa_bt_num_h[-1, :] = np.mean(usa_bt_num_h[:4, :], axis = 0)\n",
    "australia_bt_num_h[-1, :] = np.mean(australia_bt_num_h[:4, :], axis = 0)\n",
    "\n",
    "# requried time\n",
    "usa_time_h[-1, :] = np.mean(usa_time_h[:4, :], axis = 0)\n",
    "australia_time_h[-1, :] = np.mean(australia_time_h[:4, :], axis = 0)"
   ]
  },
  {
   "cell_type": "markdown",
   "metadata": {},
   "source": [
    "### Convert to Dataframe"
   ]
  },
  {
   "cell_type": "code",
   "execution_count": 12,
   "metadata": {},
   "outputs": [
    {
     "name": "stdout",
     "output_type": "stream",
     "text": [
      "***************** Backtracking number of USA map ***********************\n",
      "      DFS(MRV)  DFS(DC)  DFS(LCV)  DFS+Forward(MRV)  DFS+Forward(DC)  \\\n",
      "1         49.0     49.0      49.0              49.0             49.0   \n",
      "2         49.0     49.0      49.0              49.0             49.0   \n",
      "3         49.0     49.0      49.0              49.0             49.0   \n",
      "4         49.0     49.0      49.0              49.0             49.0   \n",
      "mean      49.0     49.0      49.0              49.0             49.0   \n",
      "\n",
      "      DFS+Forward(LCV)  DFS+Forward+Propagation(MRV)  \\\n",
      "1                 49.0                          49.0   \n",
      "2                 49.0                          49.0   \n",
      "3                 49.0                          49.0   \n",
      "4                 49.0                          49.0   \n",
      "mean              49.0                          49.0   \n",
      "\n",
      "      DFS+Forward+Propagation(DC)  DFS+Forward+Propagation(LCV)  \n",
      "1                            49.0                          49.0  \n",
      "2                            49.0                          49.0  \n",
      "3                            49.0                          49.0  \n",
      "4                            49.0                          49.0  \n",
      "mean                         49.0                          49.0  \n",
      "\n",
      "\n",
      "\n",
      " ***************** Required time of USA map ***********************\n",
      "      DFS(MRV)   DFS(DC)  DFS(LCV)  DFS+Forward(MRV)  DFS+Forward(DC)  \\\n",
      "1     0.001305  0.002110  0.000744          0.001880         0.000483   \n",
      "2     0.001915  0.002036  0.000520          0.001917         0.001363   \n",
      "3     0.001153  0.002011  0.000520          0.002169         0.000518   \n",
      "4     0.001542  0.003492  0.000941          0.001236         0.000454   \n",
      "mean  0.001479  0.002412  0.000681          0.001800         0.000704   \n",
      "\n",
      "      DFS+Forward(LCV)  DFS+Forward+Propagation(MRV)  \\\n",
      "1             0.000897                      0.003002   \n",
      "2             0.000945                      0.003346   \n",
      "3             0.000624                      0.003125   \n",
      "4             0.000579                      0.003065   \n",
      "mean          0.000761                      0.003134   \n",
      "\n",
      "      DFS+Forward+Propagation(DC)  DFS+Forward+Propagation(LCV)  \n",
      "1                        0.002508                      0.002739  \n",
      "2                        0.001991                      0.002166  \n",
      "3                        0.002155                      0.003509  \n",
      "4                        0.001985                      0.002102  \n",
      "mean                     0.002160                      0.002629  \n",
      "\n",
      "\n",
      "\n",
      " ***************** Backtracking number of Australia map ***********************\n",
      "      DFS(MRV)  DFS(DC)  DFS(LCV)  DFS+Forward(MRV)  DFS+Forward(DC)  \\\n",
      "1          6.0      6.0       6.0               6.0              6.0   \n",
      "2          6.0      6.0       6.0               6.0              6.0   \n",
      "3          6.0      6.0       6.0               6.0              6.0   \n",
      "4          6.0      6.0       6.0               6.0              6.0   \n",
      "mean       6.0      6.0       6.0               6.0              6.0   \n",
      "\n",
      "      DFS+Forward(LCV)  DFS+Forward+Propagation(MRV)  \\\n",
      "1                  6.0                           6.0   \n",
      "2                  6.0                           6.0   \n",
      "3                  6.0                           6.0   \n",
      "4                  6.0                           6.0   \n",
      "mean               6.0                           6.0   \n",
      "\n",
      "      DFS+Forward+Propagation(DC)  DFS+Forward+Propagation(LCV)  \n",
      "1                             6.0                           6.0  \n",
      "2                             6.0                           6.0  \n",
      "3                             6.0                           6.0  \n",
      "4                             6.0                           6.0  \n",
      "mean                          6.0                           6.0  \n",
      "\n",
      "\n",
      "\n",
      " ***************** Required time of Australia map ***********************\n",
      "      DFS(MRV)   DFS(DC)  DFS(LCV)  DFS+Forward(MRV)  DFS+Forward(DC)  \\\n",
      "1     0.000062  0.000304  0.000082          0.000074         0.000046   \n",
      "2     0.000065  0.000212  0.000049          0.000106         0.000087   \n",
      "3     0.000060  0.000207  0.000110          0.000104         0.000074   \n",
      "4     0.000064  0.000374  0.000092          0.000068         0.000042   \n",
      "mean  0.000062  0.000274  0.000083          0.000088         0.000062   \n",
      "\n",
      "      DFS+Forward(LCV)  DFS+Forward+Propagation(MRV)  \\\n",
      "1             0.000061                      0.000244   \n",
      "2             0.000154                      0.000248   \n",
      "3             0.000055                      0.000299   \n",
      "4             0.000077                      0.000247   \n",
      "mean          0.000087                      0.000259   \n",
      "\n",
      "      DFS+Forward+Propagation(DC)  DFS+Forward+Propagation(LCV)  \n",
      "1                        0.000255                      0.000433  \n",
      "2                        0.000209                      0.000227  \n",
      "3                        0.000206                      0.000227  \n",
      "4                        0.000202                      0.000217  \n",
      "mean                     0.000218                      0.000276  \n"
     ]
    }
   ],
   "source": [
    "# Dataframe of backtracking number of USA map\n",
    "print('***************** Backtracking number of USA map ***********************')\n",
    "usa_bt_num_hd = pd.DataFrame(usa_bt_num_h, index=['1', '2', '3', '4', 'mean'],\n",
    "                 columns=['DFS(MRV)', 'DFS(DC)', 'DFS(LCV)', \n",
    "                          'DFS+Forward(MRV)', 'DFS+Forward(DC)', 'DFS+Forward(LCV)',\n",
    "                          'DFS+Forward+Propagation(MRV)', 'DFS+Forward+Propagation(DC)', 'DFS+Forward+Propagation(LCV)'])\n",
    "print(usa_bt_num_hd)\n",
    "\n",
    "# Dataframe of required time of USA map\n",
    "print('\\n\\n\\n ***************** Required time of USA map ***********************')\n",
    "usa_time_hd = pd.DataFrame(usa_time_h, index=['1', '2', '3', '4', 'mean'],\n",
    "                 columns=['DFS(MRV)', 'DFS(DC)', 'DFS(LCV)', \n",
    "                          'DFS+Forward(MRV)', 'DFS+Forward(DC)', 'DFS+Forward(LCV)',\n",
    "                          'DFS+Forward+Propagation(MRV)', 'DFS+Forward+Propagation(DC)', 'DFS+Forward+Propagation(LCV)'])\n",
    "print(usa_time_hd)\n",
    "\n",
    "# Dataframe of backtracking number of Australia map\n",
    "print('\\n\\n\\n ***************** Backtracking number of Australia map ***********************')\n",
    "australia_bt_num_hd = pd.DataFrame(australia_bt_num_h, index=['1', '2', '3', '4', 'mean'],\n",
    "                 columns=['DFS(MRV)', 'DFS(DC)', 'DFS(LCV)', \n",
    "                          'DFS+Forward(MRV)', 'DFS+Forward(DC)', 'DFS+Forward(LCV)',\n",
    "                          'DFS+Forward+Propagation(MRV)', 'DFS+Forward+Propagation(DC)', 'DFS+Forward+Propagation(LCV)'])\n",
    "print(australia_bt_num_hd)\n",
    "\n",
    "# Dataframe of required time of Australia map\n",
    "print('\\n\\n\\n ***************** Required time of Australia map ***********************')\n",
    "australia_time_hd = pd.DataFrame(australia_time_h, index=['1', '2', '3', '4', 'mean'],\n",
    "                 columns=['DFS(MRV)', 'DFS(DC)', 'DFS(LCV)', \n",
    "                          'DFS+Forward(MRV)', 'DFS+Forward(DC)', 'DFS+Forward(LCV)',\n",
    "                          'DFS+Forward+Propagation(MRV)', 'DFS+Forward+Propagation(DC)', 'DFS+Forward+Propagation(LCV)'])\n",
    "print(australia_time_hd)"
   ]
  },
  {
   "cell_type": "markdown",
   "metadata": {},
   "source": [
    "## Compare all results and analyze them"
   ]
  },
  {
   "cell_type": "markdown",
   "metadata": {},
   "source": [
    "From the above tables, we can see that these three search algorithms have the same number of backtracking for both maps. \n",
    "And the average run time is the smallest when we use depth first search only with least constraints values."
   ]
  }
 ],
 "metadata": {
  "kernelspec": {
   "display_name": "Python 3 (ipykernel)",
   "language": "python",
   "name": "python3"
  },
  "language_info": {
   "codemirror_mode": {
    "name": "ipython",
    "version": 3
   },
   "file_extension": ".py",
   "mimetype": "text/x-python",
   "name": "python",
   "nbconvert_exporter": "python",
   "pygments_lexer": "ipython3",
   "version": "3.8.10"
  },
  "pycharm": {
   "stem_cell": {
    "cell_type": "raw",
    "metadata": {
     "collapsed": false
    },
    "source": []
   }
  }
 },
 "nbformat": 4,
 "nbformat_minor": 4
}
